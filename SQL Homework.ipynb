{
 "cells": [
  {
   "cell_type": "markdown",
   "metadata": {},
   "source": [
    "# Reading and Writing the file and establishing connection with My SQL"
   ]
  },
  {
   "cell_type": "code",
   "execution_count": 61,
   "metadata": {},
   "outputs": [
    {
     "name": "stderr",
     "output_type": "stream",
     "text": [
      "File has been Created!\n",
      "File has been Created!\n",
      "File has been Created!\n",
      "File has been Created!\n",
      "File has been Created!\n",
      "main log\n",
      "main log\n",
      "main log\n",
      "main log\n",
      "main log\n",
      "main log\n",
      "Connected!\n",
      "Connected!\n",
      "Connected!\n",
      "Connected!\n",
      "Connected!\n",
      "Connected!\n"
     ]
    }
   ],
   "source": [
    "import csv\n",
    "import logging as lg\n",
    "import mysql.connector as connection\n",
    "\n",
    "lg.basicConfig(filename = 'carbon_nano.log', level = lg.INFO , format = '%(asctime)s%(levelname)s%(message)s')\n",
    "files = []\n",
    "\n",
    "try:\n",
    "    with open('carbon_nanotubes.csv', 'r') as carbon_data:\n",
    "        carbon_data = csv.reader(carbon_data, delimiter =';')\n",
    "        for i in carbon_data:\n",
    "            files.append(i)\n",
    "except Exception as e:\n",
    "    lg.info(str(e))\n",
    "    \n",
    "else:\n",
    "    with open('carbonupdated.csv','w', newline = '') as updated_data:\n",
    "        writer = csv.writer(updated_data)\n",
    "        writer.writerows(files)\n",
    "        lg.info('File has been Created!')\n",
    "        \n",
    "finally:\n",
    "    mydb = connection.connect(host=\"localhost\",user=\"root\", passwd=\"123456\",use_pure=True)\n",
    "    console_log = lg.StreamHandler()\n",
    "    lg.getLogger().addHandler(console_log)\n",
    "    lg.info('main log')\n",
    "    lg.info('Connected!')   "
   ]
  },
  {
   "cell_type": "markdown",
   "metadata": {},
   "source": [
    "# Creating database, table and inserting values"
   ]
  },
  {
   "cell_type": "code",
   "execution_count": 62,
   "metadata": {},
   "outputs": [
    {
     "name": "stderr",
     "output_type": "stream",
     "text": [
      "Database Created\n",
      "Database Created\n",
      "Database Created\n",
      "Database Created\n",
      "Database Created\n",
      "Database Created\n",
      "Table Created\n",
      "Table Created\n",
      "Table Created\n",
      "Table Created\n",
      "Table Created\n",
      "Table Created\n"
     ]
    },
    {
     "name": "stdout",
     "output_type": "stream",
     "text": [
      "<_csv.reader object at 0x00000232309707C0>\n"
     ]
    },
    {
     "name": "stderr",
     "output_type": "stream",
     "text": [
      "Values Inserted!\n",
      "Values Inserted!\n",
      "Values Inserted!\n",
      "Values Inserted!\n",
      "Values Inserted!\n",
      "Values Inserted!\n",
      "Values Inserted!\n",
      "Values Inserted!\n",
      "Values Inserted!\n",
      "Values Inserted!\n",
      "Values Inserted!\n",
      "Values Inserted!\n"
     ]
    },
    {
     "name": "stdout",
     "output_type": "stream",
     "text": [
      "Done\n"
     ]
    }
   ],
   "source": [
    "try:\n",
    "    query = 'CREATE DATABASE Carbon_NanoTube_Updated1'\n",
    "    cursor = mydb.cursor()\n",
    "    cursor.execute(query)\n",
    "    lg.info('Database Created')\n",
    "    query1 = \"CREATE TABLE Carbon_NanoTube_Updated1.CarbonNanoTubeDetails1 (Chiralindicen INT,Chiralindicem INT,Initialatomiccoordinateu varchar(20), Initialatomiccoordinatev varchar(20),Initialatomiccoordinatew varchar(20), Calculatedatomiccoordinatesu varchar(20), Calculatedatomiccoordinatesv varchar(20), Calculatedatomiccoordinatesw varchar(20));\"\n",
    "    cursor.execute(query1)\n",
    "    lg.info('Table Created')\n",
    "    \n",
    "except Exception as e :\n",
    "    lg.info(e)\n",
    "\n",
    "else:\n",
    "    with open('carbonupdated.csv','r') as data_csv:\n",
    "        file = csv.reader(data_csv, delimiter = '\\n')\n",
    "        next(file)\n",
    "        for j in file:\n",
    "            query = 'insert into Carbon_NanoTube_Updated1.CarbonNanoTubeDetails1 values({}) ;'.format(', '.join([val for val in j]))\n",
    "            cursor.execute(query)\n",
    "    mydb.commit()\n",
    "    print('Done')\n",
    "    lg.info('Values Inserted!')\n",
    "finally:\n",
    "    lg.info('Values Inserted!')"
   ]
  },
  {
   "cell_type": "code",
   "execution_count": null,
   "metadata": {},
   "outputs": [],
   "source": []
  },
  {
   "cell_type": "code",
   "execution_count": null,
   "metadata": {},
   "outputs": [],
   "source": []
  },
  {
   "cell_type": "code",
   "execution_count": null,
   "metadata": {},
   "outputs": [],
   "source": []
  }
 ],
 "metadata": {
  "kernelspec": {
   "display_name": "Python 3",
   "language": "python",
   "name": "python3"
  },
  "language_info": {
   "codemirror_mode": {
    "name": "ipython",
    "version": 3
   },
   "file_extension": ".py",
   "mimetype": "text/x-python",
   "name": "python",
   "nbconvert_exporter": "python",
   "pygments_lexer": "ipython3",
   "version": "3.8.5"
  }
 },
 "nbformat": 4,
 "nbformat_minor": 4
}
